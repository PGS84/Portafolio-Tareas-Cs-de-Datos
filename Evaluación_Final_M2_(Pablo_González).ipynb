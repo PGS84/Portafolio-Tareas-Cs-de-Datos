{
  "nbformat": 4,
  "nbformat_minor": 0,
  "metadata": {
    "colab": {
      "provenance": []
    },
    "kernelspec": {
      "name": "python3",
      "display_name": "Python 3"
    },
    "language_info": {
      "name": "python"
    }
  },
  "cells": [
    {
      "cell_type": "markdown",
      "source": [
        "1. Definir variables básicas y tipos de datos (1 punto):\n",
        "- Crea una lista que contenga al menos cinco libros, donde cada libro sea un diccionario con los atributos\n",
        "  - título (cadena de caracteres)\n",
        "  - autor (cadena de caracteres)\n",
        "  - precio (decimal)\n",
        "  - cantidad en stock (entero)"
      ],
      "metadata": {
        "id": "R7mfzzuq3AeM"
      }
    },
    {
      "cell_type": "code",
      "execution_count": 4,
      "metadata": {
        "colab": {
          "base_uri": "https://localhost:8080/"
        },
        "id": "Q75wXesi2-tv",
        "outputId": "9abc3d98-f007-46d7-ef8b-e7b9c2502c5a"
      },
      "outputs": [
        {
          "output_type": "stream",
          "name": "stdout",
          "text": [
            "[{'titulo': 'El Príncipe', 'autor': 'N Maquiavelo', 'precio': 9.95, 'cantidad_en_stock': 22}, {'titulo': 'La Metamorfosis', 'autor': 'F Kafka', 'precio': 9.34, 'cantidad_en_stock': 6}, {'titulo': 'Un Mundo Feliz', 'autor': 'A Huxley', 'precio': 13.32, 'cantidad_en_stock': 4}, {'titulo': 'El Mito de Sisifo', 'autor': 'A Camus', 'precio': 13.32, 'cantidad_en_stock': 5}, {'titulo': 'El Extranjero', 'autor': 'A Camus', 'precio': 12.06, 'cantidad_en_stock': 3}]\n"
          ]
        }
      ],
      "source": [
        "lista_libros = [\n",
        "    {\"titulo\":\"El Príncipe\", \"autor\":\"N Maquiavelo\", \"precio\":9.95, \"cantidad_en_stock\":22},\n",
        "    {\"titulo\":\"La Metamorfosis\", \"autor\":\"F Kafka\", \"precio\":9.34, \"cantidad_en_stock\":6},\n",
        "    {\"titulo\":\"Un Mundo Feliz\", \"autor\":\"A Huxley\", \"precio\":13.32, \"cantidad_en_stock\":4},\n",
        "    {\"titulo\":\"El Mito de Sisifo\", \"autor\":\"A Camus\", \"precio\":13.32, \"cantidad_en_stock\":5},\n",
        "    {\"titulo\":\"El Extranjero\", \"autor\":\"A Camus\", \"precio\":12.06, \"cantidad_en_stock\":3}\n",
        "]\n",
        "\n",
        "print(lista_libros)"
      ]
    },
    {
      "cell_type": "markdown",
      "source": [
        "2. Control de flujo (1 punto): Implementa una función llamada mostrar_libros_disponibles() que recorra la lista de libros y muestre en pantalla los libros que tienen más de una unidad en stock usando una sentencia for y una condición if."
      ],
      "metadata": {
        "id": "CnDmH5k23PJ7"
      }
    },
    {
      "cell_type": "code",
      "source": [
        "    def mostrar_libros_disponibles():\n",
        "        for libro in lista_libros:\n",
        "            if libro[\"cantidad_en_stock\"] > 1:\n",
        "                print(libro[\"titulo\"])\n",
        "    mostrar_libros_disponibles()"
      ],
      "metadata": {
        "colab": {
          "base_uri": "https://localhost:8080/"
        },
        "id": "XW6T2wU4_Ozk",
        "outputId": "115eb773-37c0-404f-bfc7-e921429e6f14"
      },
      "execution_count": 6,
      "outputs": [
        {
          "output_type": "stream",
          "name": "stdout",
          "text": [
            "El Príncipe\n",
            "La Metamorfosis\n",
            "Un Mundo Feliz\n",
            "El Mito de Sisifo\n",
            "El Extranjero\n"
          ]
        }
      ]
    },
    {
      "cell_type": "markdown",
      "source": [
        "3. Condiciones y operadores (1 punto):\n",
        "o\n",
        "Solicita al usuario que ingrese un rango de precios (mínimo y máximo) y utiliza una sentencia if elif else para filtrar los libros en el rango ingresado y mostrarlos en pantalla."
      ],
      "metadata": {
        "id": "nS-D9moi3Rdd"
      }
    },
    {
      "cell_type": "code",
      "source": [
        "minimo = float(input(\"Ingrese el precio mínimo: \"))\n",
        "maximo = float(input(\"Ingrese el precio máximo: \"))\n",
        "\n",
        "for libro in lista_libros:\n",
        "    if libro[\"precio\"] >= minimo and libro[\"precio\"] <= maximo:\n",
        "        print(libro[\"titulo\"])"
      ],
      "metadata": {
        "colab": {
          "base_uri": "https://localhost:8080/"
        },
        "id": "Xdk1AJGj_ctD",
        "outputId": "68d4c884-f3f5-4339-8293-3ebb563c4be3"
      },
      "execution_count": 8,
      "outputs": [
        {
          "output_type": "stream",
          "name": "stdout",
          "text": [
            "Ingrese el precio mínimo: 9\n",
            "Ingrese el precio máximo: 10\n",
            "El Príncipe\n",
            "La Metamorfosis\n"
          ]
        }
      ]
    },
    {
      "cell_type": "markdown",
      "source": [
        "4. Función personalizada para simular una compra (2 puntos):\n",
        "- Crea una función comprar_libros(título, cantidad) que reciba como parámetros el título del libro y la cantidad a comprar. La función debe:\n",
        "  - Verificar si el libro está en el inventario y si la cantidad deseada está disponible.\n",
        "  - Si la compra es válida, restar la cantidad comprada al stock y mostrar el monto total de la compra.\n",
        "  - Si la cantidad solicitada es mayor al stock disponible, mostrar un mensaje de error."
      ],
      "metadata": {
        "id": "iKhyAq_m3TTp"
      }
    },
    {
      "cell_type": "code",
      "source": [
        "  def comprar_libros(titulo, cantidad):\n",
        "    for libro in lista_libros:\n",
        "        if libro[\"titulo\"] == titulo:\n",
        "            if libro[\"cantidad_en_stock\"] >= cantidad:\n",
        "                libro[\"cantidad_en_stock\"] -= cantidad\n",
        "\n",
        "comprar_libros(\"El Extranjero\", 2)\n",
        "print(lista_libros)"
      ],
      "metadata": {
        "colab": {
          "base_uri": "https://localhost:8080/"
        },
        "id": "5e03p7cPAB05",
        "outputId": "a47bf792-62fb-4496-897a-39a7c57d63d8"
      },
      "execution_count": 12,
      "outputs": [
        {
          "output_type": "stream",
          "name": "stdout",
          "text": [
            "[{'titulo': 'El Príncipe', 'autor': 'N Maquiavelo', 'precio': 9.95, 'cantidad_en_stock': 22}, {'titulo': 'La Metamorfosis', 'autor': 'F Kafka', 'precio': 9.34, 'cantidad_en_stock': 6}, {'titulo': 'Un Mundo Feliz', 'autor': 'A Huxley', 'precio': 13.32, 'cantidad_en_stock': 4}, {'titulo': 'El Mito de Sisifo', 'autor': 'A Camus', 'precio': 13.32, 'cantidad_en_stock': 5}, {'titulo': 'El Extranjero', 'autor': 'A Camus', 'precio': 12.06, 'cantidad_en_stock': 1}]\n"
          ]
        }
      ]
    },
    {
      "cell_type": "markdown",
      "source": [
        "5. Uso de bucle while para iterar hasta que el usuario decida salir (1 punto):\n",
        "- Implementa un bucle while que permita al usuario realizar múltiples compras hasta que ingrese una opción de salida."
      ],
      "metadata": {
        "id": "qe-8YDT23Vbb"
      }
    },
    {
      "cell_type": "code",
      "source": [
        "while True:\n",
        "    titulo = input(\"Ingrese el título del libro a comprar: \")\n",
        "    cantidad = int(input(\"Ingrese la cantidad a comprar: \"))\n",
        "    comprar_libros(titulo, cantidad)\n",
        "    print(lista_libros)\n",
        "    opcion = input(\"¿Desea realizar otra compra? (s/n): \")\n",
        "    if opcion.lower() != \"s\":\n",
        "        break\n",
        ""
      ],
      "metadata": {
        "colab": {
          "base_uri": "https://localhost:8080/"
        },
        "id": "DxuRKNe4AuqV",
        "outputId": "f7d7c483-2ef5-4aba-dd3a-190dc69f2851"
      },
      "execution_count": 13,
      "outputs": [
        {
          "name": "stdout",
          "output_type": "stream",
          "text": [
            "Ingrese el título del libro a comprar: El Mito de Sisifo\n",
            "Ingrese la cantidad a comprar: 1\n",
            "[{'titulo': 'El Príncipe', 'autor': 'N Maquiavelo', 'precio': 9.95, 'cantidad_en_stock': 22}, {'titulo': 'La Metamorfosis', 'autor': 'F Kafka', 'precio': 9.34, 'cantidad_en_stock': 6}, {'titulo': 'Un Mundo Feliz', 'autor': 'A Huxley', 'precio': 13.32, 'cantidad_en_stock': 4}, {'titulo': 'El Mito de Sisifo', 'autor': 'A Camus', 'precio': 13.32, 'cantidad_en_stock': 4}, {'titulo': 'El Extranjero', 'autor': 'A Camus', 'precio': 12.06, 'cantidad_en_stock': 1}]\n",
            "¿Desea realizar otra compra? (s/n): n\n"
          ]
        }
      ]
    },
    {
      "cell_type": "markdown",
      "source": [
        "6. Estructura de datos, gestión de descuentos (2 puntos):\n",
        "- Usa un diccionario para almacenar descuentos especiales por autor. Por ejemplo, aplica un 10% de descuento en libro de un autor especifico.\n",
        "- En la función comprar_libro, certifica si el autor tiene descuento y aplícalo al monto total si corresponde."
      ],
      "metadata": {
        "id": "nJfFHDN53XGW"
      }
    },
    {
      "cell_type": "code",
      "source": [
        "descuentos = {\n",
        "    \"N Maquiavelo\": 0.1,\n",
        "    \"A Huxley\": 0.15\n",
        "}\n",
        "\n",
        "def comprar_libros(titulo, cantidad):\n",
        "    for libro in lista_libros:\n",
        "        if libro[\"titulo\"] == titulo:\n",
        "            if libro[\"cantidad_en_stock\"] >= cantidad:\n",
        "                libro[\"cantidad_en_stock\"] -= cantidad\n",
        "                autor = libro[\"autor\"]\n",
        "                if autor in descuentos:\n",
        "                    descuento = descuentos[autor]\n",
        "                    monto_total = libro[\"precio\"] * cantidad * (1 - descuento)\n",
        "                    print(f\"El monto total de la compra es: {monto_total}\")\n",
        "                else:\n",
        "                    monto_total = libro[\"precio\"] * cantidad\n",
        "                    print(f\"El monto total de la compra es: {monto_total}\")\n",
        "            else:\n",
        "                print(\"No hay suficientes unidades en stock\")\n",
        "\n",
        "comprar_libros(\"El Príncipe\", 2)"
      ],
      "metadata": {
        "colab": {
          "base_uri": "https://localhost:8080/"
        },
        "id": "MONbazJAAvAO",
        "outputId": "4b769411-f0e7-4a44-f0d6-d356eb22dbec"
      },
      "execution_count": 16,
      "outputs": [
        {
          "output_type": "stream",
          "name": "stdout",
          "text": [
            "El monto total de la compra es: 17.91\n"
          ]
        }
      ]
    },
    {
      "cell_type": "markdown",
      "source": [
        "7. Simulación de una factura (2 punto):\n",
        "- Al finalizar la compra, muestra un resumen con el total de libros comprados, el monto total pagado y el ahorro por descuentos."
      ],
      "metadata": {
        "id": "iAft-8r83YhP"
      }
    },
    {
      "cell_type": "code",
      "source": [
        "def comprar_libros(titulo, cantidad):\n",
        "    for libro in lista_libros:\n",
        "        if libro[\"titulo\"] == titulo:\n",
        "            if libro[\"cantidad_en_stock\"] >= cantidad:\n",
        "                libro[\"cantidad_en_stock\"] -= cantidad\n",
        "\n",
        "                autor = libro[\"autor\"]\n",
        "                if autor in descuentos:\n",
        "                    descuento = descuentos[autor]\n",
        "                    monto_total = libro[\"precio\"] * cantidad * (1 - descuento)\n",
        "                    print(f\"El monto total de la compra es: {monto_total}\")\n",
        "\n",
        "                else:\n",
        "                    monto_total = libro[\"precio\"] * cantidad\n",
        "                    print(f\"El monto total de la compra es: {monto_total}\")\n",
        "            else:\n",
        "                print(\"No hay suficientes unidades en stock\")\n",
        "print(\"Resumen de la compra:\")"
      ],
      "metadata": {
        "colab": {
          "base_uri": "https://localhost:8080/"
        },
        "id": "T1l8hOgpAvgu",
        "outputId": "96861eed-453b-40b2-9dfb-bbec3699b77c"
      },
      "execution_count": 24,
      "outputs": [
        {
          "output_type": "stream",
          "name": "stdout",
          "text": [
            "Resumen de la compra:\n"
          ]
        }
      ]
    },
    {
      "cell_type": "code",
      "metadata": {
        "colab": {
          "base_uri": "https://localhost:8080/"
        },
        "id": "d4f4fac6",
        "outputId": "9c894aef-be9b-43a2-f951-3f482fbbc90a"
      },
      "source": [
        "total_libros_comprados = 0\n",
        "total_monto_pagado = 0\n",
        "total_ahorro_descuentos = 0\n",
        "\n",
        "while True:\n",
        "    titulo = input(\"Ingrese el título del libro a comprar (o 'salir' para finalizar): \")\n",
        "    if titulo.lower() == 'salir':\n",
        "        break\n",
        "\n",
        "    cantidad_str = input(\"Ingrese la cantidad a comprar: \")\n",
        "    try:\n",
        "        cantidad = int(cantidad_str)\n",
        "    except ValueError:\n",
        "        print(\"Cantidad inválida. Por favor ingrese un número entero.\")\n",
        "        continue\n",
        "\n",
        "    libro_encontrado = False\n",
        "    for libro in lista_libros:\n",
        "        if libro[\"titulo\"] == titulo:\n",
        "            libro_encontrado = True\n",
        "            if libro[\"cantidad_en_stock\"] >= cantidad:\n",
        "                libro[\"cantidad_en_stock\"] -= cantidad\n",
        "\n",
        "                autor = libro[\"autor\"]\n",
        "                precio_unitario = libro[\"precio\"]\n",
        "                monto_sin_descuento = precio_unitario * cantidad\n",
        "\n",
        "                if autor in descuentos:\n",
        "                    descuento = descuentos[autor]\n",
        "                    ahorro_descuento = monto_sin_descuento * descuento\n",
        "                    monto_total = monto_sin_descuento - ahorro_descuento\n",
        "                    total_ahorro_descuentos += ahorro_descuento\n",
        "                    print(f\"¡Se aplicó un descuento del {descuento*100:.0f}%!\")\n",
        "                else:\n",
        "                    monto_total = monto_sin_descuento\n",
        "                    ahorro_descuento = 0\n",
        "\n",
        "                total_libros_comprados += cantidad\n",
        "                total_monto_pagado += monto_total\n",
        "\n",
        "                print(f\"Compra exitosa: {cantidad} unidades de '{titulo}'. Monto total: {monto_total:.2f}\")\n",
        "\n",
        "            else:\n",
        "                print(f\"No hay suficientes unidades en stock para '{titulo}'. Stock disponible: {libro['cantidad_en_stock']}\")\n",
        "            break\n",
        "\n",
        "    if not libro_encontrado:\n",
        "        print(f\"El libro con título '{titulo}' no se encontró en el inventario.\")\n",
        "\n",
        "    print(\"-\" * 20)\n",
        "\n",
        "print(\"\\n--- Resumen de la compra ---\")\n",
        "print(f\"Total de libros comprados: {total_libros_comprados}\")\n",
        "print(f\"Monto total pagado: {total_monto_pagado:.2f}\")\n",
        "print(f\"Ahorro total por descuentos: {total_ahorro_descuentos:.2f}\")"
      ],
      "execution_count": 25,
      "outputs": [
        {
          "output_type": "stream",
          "name": "stdout",
          "text": [
            "Ingrese el título del libro a comprar (o 'salir' para finalizar): El Mito de Sisifo\n",
            "Ingrese la cantidad a comprar: 1\n",
            "Compra exitosa: 1 unidades de 'El Mito de Sisifo'. Monto total: 13.32\n",
            "--------------------\n",
            "Ingrese el título del libro a comprar (o 'salir' para finalizar): El Extranjero\n",
            "Ingrese la cantidad a comprar: 4\n",
            "No hay suficientes unidades en stock para 'El Extranjero'. Stock disponible: 1\n",
            "--------------------\n",
            "Ingrese el título del libro a comprar (o 'salir' para finalizar): Un Mundo Feliz\n",
            "Ingrese la cantidad a comprar: 1\n",
            "¡Se aplicó un descuento del 15%!\n",
            "Compra exitosa: 1 unidades de 'Un Mundo Feliz'. Monto total: 11.32\n",
            "--------------------\n",
            "Ingrese el título del libro a comprar (o 'salir' para finalizar): salir\n",
            "\n",
            "--- Resumen de la compra ---\n",
            "Total de libros comprados: 2\n",
            "Monto total pagado: 24.64\n",
            "Ahorro total por descuentos: 2.00\n"
          ]
        }
      ]
    }
  ]
}