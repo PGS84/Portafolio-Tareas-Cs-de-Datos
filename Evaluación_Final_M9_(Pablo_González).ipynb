{
  "nbformat": 4,
  "nbformat_minor": 0,
  "metadata": {
    "colab": {
      "provenance": []
    },
    "kernelspec": {
      "name": "python3",
      "display_name": "Python 3"
    },
    "language_info": {
      "name": "python"
    }
  },
  "cells": [
    {
      "cell_type": "markdown",
      "source": [
        "EVALUACIÓN FINAL: ANÁLISIS DE MOVIMIENTOS MIGRATORIOS CON SPARK\n",
        "\n",
        "Eres parte de un equipo de analistas de datos encargado de estudiar las tendencias de migración humana en el siglo XXI utilizando Big Data. Para ello, trabajarás con un conjunto de datos que contiene información sobre migraciones entre distintos países, sus causas y el impacto socioeconómico en las regiones de origen y destino.\n",
        "\n",
        "Objetivos de la actividad\n",
        "\n",
        "1. Aplicar conceptos de Big Data utilizando Apache Spark y PySpark.\n",
        "2. Explorar y transformar datos con RDDs y DataFrames.\n",
        "3. Realizar consultas con Spark SQL.\n",
        "4. Implementar modelos de aprendizaje automático con MLlib."
      ],
      "metadata": {
        "id": "4l9D-iUaW_GX"
      }
    },
    {
      "cell_type": "markdown",
      "source": [
        "1. Carga y exploración de datos (2 puntos)\n",
        "- Carga el dataset proporcionado en Spark.\n",
        "- Convierte los datos en un RDD y un DataFrame.\n",
        "- Explora los datos: muestra las primeras filas, el esquema y genera estadísticas descriptivas."
      ],
      "metadata": {
        "id": "F8eU_GGrW-7M"
      }
    },
    {
      "cell_type": "code",
      "execution_count": 3,
      "metadata": {
        "colab": {
          "base_uri": "https://localhost:8080/"
        },
        "id": "Dlvn6Es0W1Mn",
        "outputId": "2c62afab-f3c9-46f1-b62e-7442bec37215"
      },
      "outputs": [
        {
          "output_type": "stream",
          "name": "stdout",
          "text": [
            "Requirement already satisfied: pyspark in /usr/local/lib/python3.12/dist-packages (3.5.1)\n",
            "Requirement already satisfied: py4j==0.10.9.7 in /usr/local/lib/python3.12/dist-packages (from pyspark) (0.10.9.7)\n",
            "+---+---------+---------------+----+---------+----------+-----------+---------------------+----------------------+----------------------+-----------------------+----------------+-----------------+\n",
            "| ID|   Origen|        Destino| Año|    Razón|PIB_Origen|PIB_Destino|Tasa_Desempleo_Origen|Tasa_Desempleo_Destino|Nivel_Educativo_Origen|Nivel_Educativo_Destino|Población_Origen|Población_Destino|\n",
            "+---+---------+---------------+----+---------+----------+-----------+---------------------+----------------------+----------------------+-----------------------+----------------+-----------------+\n",
            "|  1|   México|           EEUU|2015|Económica|      8900|      62000|                  5.2|                   3.8|                   8.5|                   12.3|       125000000|        331000000|\n",
            "|  2|    Siria|       Alemania|2016|Conflicto|      2500|      45000|                 15.4|                   4.5|                   6.2|                   14.1|        18000000|         83000000|\n",
            "|  3|Venezuela|       Colombia|2017| Política|      6000|      15000|                 14.8|                  10.1|                   9.3|                   11.0|        28000000|         50000000|\n",
            "|  4|    India|Emiratos Árabes|2018|  Laboral|      2200|      43000|                  7.2|                   1.8|                   7.8|                   13.0|      1380000000|          9800000|\n",
            "|  5|Argentina|         España|2019|Económica|     10000|      34000|                  9.5|                  13.2|                  11.5|                   13.8|        45000000|         47000000|\n",
            "+---+---------+---------------+----+---------+----------+-----------+---------------------+----------------------+----------------------+-----------------------+----------------+-----------------+\n",
            "\n",
            "root\n",
            " |-- ID: integer (nullable = true)\n",
            " |-- Origen: string (nullable = true)\n",
            " |-- Destino: string (nullable = true)\n",
            " |-- Año: integer (nullable = true)\n",
            " |-- Razón: string (nullable = true)\n",
            " |-- PIB_Origen: integer (nullable = true)\n",
            " |-- PIB_Destino: integer (nullable = true)\n",
            " |-- Tasa_Desempleo_Origen: double (nullable = true)\n",
            " |-- Tasa_Desempleo_Destino: double (nullable = true)\n",
            " |-- Nivel_Educativo_Origen: double (nullable = true)\n",
            " |-- Nivel_Educativo_Destino: double (nullable = true)\n",
            " |-- Población_Origen: integer (nullable = true)\n",
            " |-- Población_Destino: integer (nullable = true)\n",
            "\n",
            "+-------+------------------+---------+--------+------------------+---------+------------------+------------------+---------------------+----------------------+----------------------+-----------------------+-------------------+-------------------+\n",
            "|summary|                ID|   Origen| Destino|               Año|    Razón|        PIB_Origen|       PIB_Destino|Tasa_Desempleo_Origen|Tasa_Desempleo_Destino|Nivel_Educativo_Origen|Nivel_Educativo_Destino|   Población_Origen|  Población_Destino|\n",
            "+-------+------------------+---------+--------+------------------+---------+------------------+------------------+---------------------+----------------------+----------------------+-----------------------+-------------------+-------------------+\n",
            "|  count|                 5|        5|       5|                 5|        5|                 5|                 5|                    5|                     5|                     5|                      5|                  5|                  5|\n",
            "|   mean|               3.0|     NULL|    NULL|            2017.0|     NULL|            5920.0|           39800.0|   10.420000000000002|                  6.68|                  8.66|                  12.84|            3.192E8|           1.0416E8|\n",
            "| stddev|1.5811388300841898|     NULL|    NULL|1.5811388300841898|     NULL|3573.0938974507794|17166.828478201787|     4.54004405264971|     4.771477758514651|    1.9552493447128425|     1.2461942063739502|5.944986963820863E8|1.294300119755847E8|\n",
            "|    min|                 1|Argentina|Alemania|              2015|Conflicto|              2200|             15000|                  5.2|                   1.8|                   6.2|                   11.0|           18000000|            9800000|\n",
            "|    max|                 5|Venezuela|  España|              2019| Política|             10000|             62000|                 15.4|                  13.2|                  11.5|                   14.1|         1380000000|          331000000|\n",
            "+-------+------------------+---------+--------+------------------+---------+------------------+------------------+---------------------+----------------------+----------------------+-----------------------+-------------------+-------------------+\n",
            "\n"
          ]
        },
        {
          "output_type": "execute_result",
          "data": {
            "text/plain": [
              "[Row(ID=1, Origen='México', Destino='EEUU', Año=2015, Razón='Económica', PIB_Origen=8900, PIB_Destino=62000, Tasa_Desempleo_Origen=5.2, Tasa_Desempleo_Destino=3.8, Nivel_Educativo_Origen=8.5, Nivel_Educativo_Destino=12.3, Población_Origen=125000000, Población_Destino=331000000),\n",
              " Row(ID=2, Origen='Siria', Destino='Alemania', Año=2016, Razón='Conflicto', PIB_Origen=2500, PIB_Destino=45000, Tasa_Desempleo_Origen=15.4, Tasa_Desempleo_Destino=4.5, Nivel_Educativo_Origen=6.2, Nivel_Educativo_Destino=14.1, Población_Origen=18000000, Población_Destino=83000000),\n",
              " Row(ID=3, Origen='Venezuela', Destino='Colombia', Año=2017, Razón='Política', PIB_Origen=6000, PIB_Destino=15000, Tasa_Desempleo_Origen=14.8, Tasa_Desempleo_Destino=10.1, Nivel_Educativo_Origen=9.3, Nivel_Educativo_Destino=11.0, Población_Origen=28000000, Población_Destino=50000000),\n",
              " Row(ID=4, Origen='India', Destino='Emiratos Árabes', Año=2018, Razón='Laboral', PIB_Origen=2200, PIB_Destino=43000, Tasa_Desempleo_Origen=7.2, Tasa_Desempleo_Destino=1.8, Nivel_Educativo_Origen=7.8, Nivel_Educativo_Destino=13.0, Población_Origen=1380000000, Población_Destino=9800000),\n",
              " Row(ID=5, Origen='Argentina', Destino='España', Año=2019, Razón='Económica', PIB_Origen=10000, PIB_Destino=34000, Tasa_Desempleo_Origen=9.5, Tasa_Desempleo_Destino=13.2, Nivel_Educativo_Origen=11.5, Nivel_Educativo_Destino=13.8, Población_Origen=45000000, Población_Destino=47000000)]"
            ]
          },
          "metadata": {},
          "execution_count": 3
        }
      ],
      "source": [
        "%pip install pyspark\n",
        "\n",
        "from pyspark.sql import SparkSession\n",
        "spark = SparkSession.builder.appName(\"migraciones\").getOrCreate()\n",
        "file_path = \"/content/sample_data/migraciones.csv\"\n",
        "df = spark.read.csv(file_path, header=True, inferSchema=True)\n",
        "df.show()\n",
        "df.printSchema()\n",
        "df.describe().show()\n",
        "\n",
        "rdd_migraciones = df.rdd\n",
        "rdd_migraciones.take(5)"
      ]
    },
    {
      "cell_type": "markdown",
      "source": [
        "2. Procesamiento de datos con RDDs y DataFrames (3 puntos)\n",
        "- Aplica transformaciones sobre los RDDs (filter, map, flatMap).\n",
        "- Aplica acciones sobre los RDDs (collect, take, count).\n",
        "- Realiza operaciones con DataFrames: filtrado, agregaciones y ordenamiento.\n",
        "- Escribe los resultados en formato Parquet."
      ],
      "metadata": {
        "id": "7KSZkDNvXY5i"
      }
    },
    {
      "cell_type": "code",
      "source": [
        "rdd_filter = rdd_migraciones.filter(lambda x: x[\"PIB_Destino\"] > 40000)\n",
        "print(rdd_filter.take(5))\n",
        "\n",
        "rdd_map = rdd_migraciones.map(lambda x: (x[\"Origen\"], x[\"Destino\"], x[\"Año\"]))\n",
        "print(rdd_map.take(5))\n",
        "\n",
        "rdd_flatMap = rdd_migraciones.flatMap(lambda x: [(x[\"Origen\"], x[\"Destino\"], x[\"Año\"]), (x[\"Destino\"], x[\"Origen\"], x[\"Año\"])])\n",
        "print(rdd_flatMap.take(5))\n",
        "\n",
        "print(\n",
        "  rdd_migraciones.collect(),\n",
        "  rdd_migraciones.take(5),\n",
        "  rdd_migraciones.count()\n",
        ")\n",
        "\n",
        "df_filter = df.filter(df[\"Tasa_Desempleo_Origen\"] > 10)\n",
        "df_filter.show()\n",
        "\n",
        "df_agg = df.groupBy(\"Razón\").count()\n",
        "df_agg.show()\n",
        "\n",
        "df_sort = df.orderBy(\"PIB_Origen\")\n",
        "df_sort.show()\n",
        "\n",
        "df.write.parquet(\"migraciones.parquet\")"
      ],
      "metadata": {
        "colab": {
          "base_uri": "https://localhost:8080/"
        },
        "id": "jmlai6znXd2b",
        "outputId": "0414f34f-4fc0-42e2-bde7-dd4312af675b"
      },
      "execution_count": 17,
      "outputs": [
        {
          "output_type": "stream",
          "name": "stdout",
          "text": [
            "[Row(ID=1, Origen='México', Destino='EEUU', Año=2015, Razón='Económica', PIB_Origen=8900, PIB_Destino=62000, Tasa_Desempleo_Origen=5.2, Tasa_Desempleo_Destino=3.8, Nivel_Educativo_Origen=8.5, Nivel_Educativo_Destino=12.3, Población_Origen=125000000, Población_Destino=331000000), Row(ID=2, Origen='Siria', Destino='Alemania', Año=2016, Razón='Conflicto', PIB_Origen=2500, PIB_Destino=45000, Tasa_Desempleo_Origen=15.4, Tasa_Desempleo_Destino=4.5, Nivel_Educativo_Origen=6.2, Nivel_Educativo_Destino=14.1, Población_Origen=18000000, Población_Destino=83000000), Row(ID=4, Origen='India', Destino='Emiratos Árabes', Año=2018, Razón='Laboral', PIB_Origen=2200, PIB_Destino=43000, Tasa_Desempleo_Origen=7.2, Tasa_Desempleo_Destino=1.8, Nivel_Educativo_Origen=7.8, Nivel_Educativo_Destino=13.0, Población_Origen=1380000000, Población_Destino=9800000)]\n",
            "[('México', 'EEUU', 2015), ('Siria', 'Alemania', 2016), ('Venezuela', 'Colombia', 2017), ('India', 'Emiratos Árabes', 2018), ('Argentina', 'España', 2019)]\n",
            "[('México', 'EEUU', 2015), ('EEUU', 'México', 2015), ('Siria', 'Alemania', 2016), ('Alemania', 'Siria', 2016), ('Venezuela', 'Colombia', 2017)]\n",
            "[Row(ID=1, Origen='México', Destino='EEUU', Año=2015, Razón='Económica', PIB_Origen=8900, PIB_Destino=62000, Tasa_Desempleo_Origen=5.2, Tasa_Desempleo_Destino=3.8, Nivel_Educativo_Origen=8.5, Nivel_Educativo_Destino=12.3, Población_Origen=125000000, Población_Destino=331000000), Row(ID=2, Origen='Siria', Destino='Alemania', Año=2016, Razón='Conflicto', PIB_Origen=2500, PIB_Destino=45000, Tasa_Desempleo_Origen=15.4, Tasa_Desempleo_Destino=4.5, Nivel_Educativo_Origen=6.2, Nivel_Educativo_Destino=14.1, Población_Origen=18000000, Población_Destino=83000000), Row(ID=3, Origen='Venezuela', Destino='Colombia', Año=2017, Razón='Política', PIB_Origen=6000, PIB_Destino=15000, Tasa_Desempleo_Origen=14.8, Tasa_Desempleo_Destino=10.1, Nivel_Educativo_Origen=9.3, Nivel_Educativo_Destino=11.0, Población_Origen=28000000, Población_Destino=50000000), Row(ID=4, Origen='India', Destino='Emiratos Árabes', Año=2018, Razón='Laboral', PIB_Origen=2200, PIB_Destino=43000, Tasa_Desempleo_Origen=7.2, Tasa_Desempleo_Destino=1.8, Nivel_Educativo_Origen=7.8, Nivel_Educativo_Destino=13.0, Población_Origen=1380000000, Población_Destino=9800000), Row(ID=5, Origen='Argentina', Destino='España', Año=2019, Razón='Económica', PIB_Origen=10000, PIB_Destino=34000, Tasa_Desempleo_Origen=9.5, Tasa_Desempleo_Destino=13.2, Nivel_Educativo_Origen=11.5, Nivel_Educativo_Destino=13.8, Población_Origen=45000000, Población_Destino=47000000)] [Row(ID=1, Origen='México', Destino='EEUU', Año=2015, Razón='Económica', PIB_Origen=8900, PIB_Destino=62000, Tasa_Desempleo_Origen=5.2, Tasa_Desempleo_Destino=3.8, Nivel_Educativo_Origen=8.5, Nivel_Educativo_Destino=12.3, Población_Origen=125000000, Población_Destino=331000000), Row(ID=2, Origen='Siria', Destino='Alemania', Año=2016, Razón='Conflicto', PIB_Origen=2500, PIB_Destino=45000, Tasa_Desempleo_Origen=15.4, Tasa_Desempleo_Destino=4.5, Nivel_Educativo_Origen=6.2, Nivel_Educativo_Destino=14.1, Población_Origen=18000000, Población_Destino=83000000), Row(ID=3, Origen='Venezuela', Destino='Colombia', Año=2017, Razón='Política', PIB_Origen=6000, PIB_Destino=15000, Tasa_Desempleo_Origen=14.8, Tasa_Desempleo_Destino=10.1, Nivel_Educativo_Origen=9.3, Nivel_Educativo_Destino=11.0, Población_Origen=28000000, Población_Destino=50000000), Row(ID=4, Origen='India', Destino='Emiratos Árabes', Año=2018, Razón='Laboral', PIB_Origen=2200, PIB_Destino=43000, Tasa_Desempleo_Origen=7.2, Tasa_Desempleo_Destino=1.8, Nivel_Educativo_Origen=7.8, Nivel_Educativo_Destino=13.0, Población_Origen=1380000000, Población_Destino=9800000), Row(ID=5, Origen='Argentina', Destino='España', Año=2019, Razón='Económica', PIB_Origen=10000, PIB_Destino=34000, Tasa_Desempleo_Origen=9.5, Tasa_Desempleo_Destino=13.2, Nivel_Educativo_Origen=11.5, Nivel_Educativo_Destino=13.8, Población_Origen=45000000, Población_Destino=47000000)] 5\n",
            "+---+---------+--------+----+---------+----------+-----------+---------------------+----------------------+----------------------+-----------------------+----------------+-----------------+\n",
            "| ID|   Origen| Destino| Año|    Razón|PIB_Origen|PIB_Destino|Tasa_Desempleo_Origen|Tasa_Desempleo_Destino|Nivel_Educativo_Origen|Nivel_Educativo_Destino|Población_Origen|Población_Destino|\n",
            "+---+---------+--------+----+---------+----------+-----------+---------------------+----------------------+----------------------+-----------------------+----------------+-----------------+\n",
            "|  2|    Siria|Alemania|2016|Conflicto|      2500|      45000|                 15.4|                   4.5|                   6.2|                   14.1|        18000000|         83000000|\n",
            "|  3|Venezuela|Colombia|2017| Política|      6000|      15000|                 14.8|                  10.1|                   9.3|                   11.0|        28000000|         50000000|\n",
            "+---+---------+--------+----+---------+----------+-----------+---------------------+----------------------+----------------------+-----------------------+----------------+-----------------+\n",
            "\n",
            "+---------+-----+\n",
            "|    Razón|count|\n",
            "+---------+-----+\n",
            "| Política|    1|\n",
            "|Conflicto|    1|\n",
            "|  Laboral|    1|\n",
            "|Económica|    2|\n",
            "+---------+-----+\n",
            "\n",
            "+---+---------+---------------+----+---------+----------+-----------+---------------------+----------------------+----------------------+-----------------------+----------------+-----------------+\n",
            "| ID|   Origen|        Destino| Año|    Razón|PIB_Origen|PIB_Destino|Tasa_Desempleo_Origen|Tasa_Desempleo_Destino|Nivel_Educativo_Origen|Nivel_Educativo_Destino|Población_Origen|Población_Destino|\n",
            "+---+---------+---------------+----+---------+----------+-----------+---------------------+----------------------+----------------------+-----------------------+----------------+-----------------+\n",
            "|  4|    India|Emiratos Árabes|2018|  Laboral|      2200|      43000|                  7.2|                   1.8|                   7.8|                   13.0|      1380000000|          9800000|\n",
            "|  2|    Siria|       Alemania|2016|Conflicto|      2500|      45000|                 15.4|                   4.5|                   6.2|                   14.1|        18000000|         83000000|\n",
            "|  3|Venezuela|       Colombia|2017| Política|      6000|      15000|                 14.8|                  10.1|                   9.3|                   11.0|        28000000|         50000000|\n",
            "|  1|   México|           EEUU|2015|Económica|      8900|      62000|                  5.2|                   3.8|                   8.5|                   12.3|       125000000|        331000000|\n",
            "|  5|Argentina|         España|2019|Económica|     10000|      34000|                  9.5|                  13.2|                  11.5|                   13.8|        45000000|         47000000|\n",
            "+---+---------+---------------+----+---------+----------+-----------+---------------------+----------------------+----------------------+-----------------------+----------------+-----------------+\n",
            "\n"
          ]
        }
      ]
    },
    {
      "cell_type": "markdown",
      "source": [
        "3. Consultas con Spark SQL (2 puntos)\n",
        "- Registra el DataFrame como una tabla temporal.\n",
        "- Realiza consultas sobre los principales países de origen y destino.\n",
        "- Analiza las principales razones de migración por región."
      ],
      "metadata": {
        "id": "fIhFDAMFXe7m"
      }
    },
    {
      "cell_type": "code",
      "source": [
        "df.createOrReplaceTempView(\"migraciones_tabla\")\n",
        "ori_des = spark.sql(\"SELECT Origen, Destino FROM migraciones_tabla\")\n",
        "ori_des.show()\n",
        "\n",
        "razon_reg = spark.sql(\"SELECT `Razón`, Origen, Destino FROM migraciones_tabla\")\n",
        "razon_reg.show()"
      ],
      "metadata": {
        "colab": {
          "base_uri": "https://localhost:8080/"
        },
        "id": "nhzguY9rXnjF",
        "outputId": "e130b0c1-1c69-4c1c-c5f6-5fef2c15c90f"
      },
      "execution_count": 28,
      "outputs": [
        {
          "output_type": "stream",
          "name": "stdout",
          "text": [
            "+---------+---------------+\n",
            "|   Origen|        Destino|\n",
            "+---------+---------------+\n",
            "|   México|           EEUU|\n",
            "|    Siria|       Alemania|\n",
            "|Venezuela|       Colombia|\n",
            "|    India|Emiratos Árabes|\n",
            "|Argentina|         España|\n",
            "+---------+---------------+\n",
            "\n",
            "+---------+---------+---------------+\n",
            "|    Razón|   Origen|        Destino|\n",
            "+---------+---------+---------------+\n",
            "|Económica|   México|           EEUU|\n",
            "|Conflicto|    Siria|       Alemania|\n",
            "| Política|Venezuela|       Colombia|\n",
            "|  Laboral|    India|Emiratos Árabes|\n",
            "|Económica|Argentina|         España|\n",
            "+---------+---------+---------------+\n",
            "\n"
          ]
        }
      ]
    },
    {
      "cell_type": "markdown",
      "source": [
        "4. Aplicación de MLlib para predicción de flujos migratorios (3 puntos)\n",
        "- Convierte los datos en un formato adecuado para MLlib.\n",
        "- Aplica un modelo de regresión logística para predecir la probabilidad de migración basada en factores socioeconómicos.\n",
        "- Evalúa el modelo y analiza su precisión."
      ],
      "metadata": {
        "id": "emrP_SB7Xn26"
      }
    },
    {
      "cell_type": "code",
      "source": [
        "from pyspark.ml.feature import VectorAssembler\n",
        "from pyspark.ml.classification import LogisticRegression\n",
        "from pyspark.ml.evaluation import BinaryClassificationEvaluator\n",
        "from pyspark.ml.evaluation import MulticlassClassificationEvaluator\n",
        "\n",
        "assembler = VectorAssembler(inputCols=[\"PIB_Origen\", \"PIB_Destino\", \"Tasa_Desempleo_Origen\", \"Tasa_Desempleo_Destino\", \"Nivel_Educativo_Origen\", \"Nivel_Educativo_Destino\", \"Población_Origen\", \"Población_Destino\"], outputCol=\"features\")\n",
        "df2 = assembler.transform(df)\n",
        "\n",
        "train_data, test_data = df2.randomSplit([0.6, 0.4], seed=42)\n",
        "\n",
        "lr = LogisticRegression(labelCol=\"ID\", featuresCol=\"features\")\n",
        "\n",
        "model = lr.fit(train_data)\n",
        "\n",
        "predictions = model.transform(test_data)\n",
        "\n",
        "predictions.select(\"ID\", \"probability\", \"prediction\").show()\n",
        "\n",
        "evaluator = MulticlassClassificationEvaluator(labelCol=\"ID\", predictionCol=\"prediction\", metricName=\"accuracy\")\n",
        "accuracy = evaluator.evaluate(predictions)\n",
        "print(\"Accuracy:\", accuracy)"
      ],
      "metadata": {
        "colab": {
          "base_uri": "https://localhost:8080/"
        },
        "id": "8slFKKx7XtZW",
        "outputId": "4f90d507-b224-482d-977f-d90a0e566355"
      },
      "execution_count": 46,
      "outputs": [
        {
          "output_type": "stream",
          "name": "stdout",
          "text": [
            "+---+--------------------+----------+\n",
            "| ID|         probability|prediction|\n",
            "+---+--------------------+----------+\n",
            "|  1|[2.74480218392475...|       2.0|\n",
            "|  3|[1.46866172141575...|       4.0|\n",
            "|  5|[4.08616647707328...|       2.0|\n",
            "+---+--------------------+----------+\n",
            "\n",
            "Accuracy: 0.0\n"
          ]
        }
      ]
    },
    {
      "cell_type": "markdown",
      "source": [
        "El modelo no logra presición, debido tal vez a que se ingresa una cantidad muy baja de filas para evaluar al modelo."
      ],
      "metadata": {
        "id": "b0zSUhhueeMR"
      }
    },
    {
      "cell_type": "markdown",
      "source": [],
      "metadata": {
        "id": "YCcqRkqhdyb8"
      }
    }
  ]
}